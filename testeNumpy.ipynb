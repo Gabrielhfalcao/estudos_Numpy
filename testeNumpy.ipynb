{
  "nbformat": 4,
  "nbformat_minor": 0,
  "metadata": {
    "colab": {
      "provenance": [],
      "authorship_tag": "ABX9TyNOI6jp6e9Yd2H5ozmrdfu3",
      "include_colab_link": true
    },
    "kernelspec": {
      "name": "python3",
      "display_name": "Python 3"
    },
    "language_info": {
      "name": "python"
    }
  },
  "cells": [
    {
      "cell_type": "markdown",
      "metadata": {
        "id": "view-in-github",
        "colab_type": "text"
      },
      "source": [
        "<a href=\"https://colab.research.google.com/github/Gabrielhfalcao/estudos_Numpy/blob/main/testeNumpy.ipynb\" target=\"_parent\"><img src=\"https://colab.research.google.com/assets/colab-badge.svg\" alt=\"Open In Colab\"/></a>"
      ]
    },
    {
      "cell_type": "code",
      "execution_count": 2,
      "metadata": {
        "id": "5C1UqnalIL-w"
      },
      "outputs": [],
      "source": [
        "import numpy as np"
      ]
    },
    {
      "cell_type": "code",
      "source": [
        "a = np.array([[0, 0, 4], [0, 5, 9]])\n",
        "print(a)\n",
        "print(type(a))\n",
        "print(a.ndim)\n",
        "print(a.shape)\n",
        "print(len(a))"
      ],
      "metadata": {
        "colab": {
          "base_uri": "https://localhost:8080/"
        },
        "id": "2ccsZZTGI2ho",
        "outputId": "239243a1-7d20-49aa-962f-8f8e419cd577"
      },
      "execution_count": 11,
      "outputs": [
        {
          "output_type": "stream",
          "name": "stdout",
          "text": [
            "[[0 0 4]\n",
            " [0 5 9]]\n",
            "<class 'numpy.ndarray'>\n",
            "2\n",
            "(2, 3)\n",
            "2\n"
          ]
        }
      ]
    },
    {
      "cell_type": "code",
      "source": [
        "b = np.arange(0, 100, 2)\n",
        "print(b)\n",
        "\n",
        "c = np.arange(10)\n",
        "print(c)\n",
        "\n",
        "d = np.linspace(1, 10, 20, endpoint=False)\n",
        "print(d)"
      ],
      "metadata": {
        "colab": {
          "base_uri": "https://localhost:8080/"
        },
        "id": "DoqSufaKMNFs",
        "outputId": "59e9d5bd-516e-4895-acd6-6e7d667ac61b"
      },
      "execution_count": 19,
      "outputs": [
        {
          "output_type": "stream",
          "name": "stdout",
          "text": [
            "[ 0  2  4  6  8 10 12 14 16 18 20 22 24 26 28 30 32 34 36 38 40 42 44 46\n",
            " 48 50 52 54 56 58 60 62 64 66 68 70 72 74 76 78 80 82 84 86 88 90 92 94\n",
            " 96 98]\n",
            "[0 1 2 3 4 5 6 7 8 9]\n",
            "[1.   1.45 1.9  2.35 2.8  3.25 3.7  4.15 4.6  5.05 5.5  5.95 6.4  6.85\n",
            " 7.3  7.75 8.2  8.65 9.1  9.55]\n"
          ]
        }
      ]
    },
    {
      "cell_type": "code",
      "source": [
        "e = np.ones((5, 5))\n",
        "print(e)\n",
        "\n",
        "f = np.zeros(100)\n",
        "print(f)\n",
        "\n",
        "g = np.random.rand(10, 10)\n",
        "print(g)\n"
      ],
      "metadata": {
        "colab": {
          "base_uri": "https://localhost:8080/"
        },
        "id": "jn_4AKLvPcUx",
        "outputId": "023c2c18-bdd6-4a88-a045-7cc27a766cf4"
      },
      "execution_count": 29,
      "outputs": [
        {
          "output_type": "stream",
          "name": "stdout",
          "text": [
            "[[1. 1. 1. 1. 1.]\n",
            " [1. 1. 1. 1. 1.]\n",
            " [1. 1. 1. 1. 1.]\n",
            " [1. 1. 1. 1. 1.]\n",
            " [1. 1. 1. 1. 1.]]\n",
            "[0. 0. 0. 0. 0. 0. 0. 0. 0. 0. 0. 0. 0. 0. 0. 0. 0. 0. 0. 0. 0. 0. 0. 0.\n",
            " 0. 0. 0. 0. 0. 0. 0. 0. 0. 0. 0. 0. 0. 0. 0. 0. 0. 0. 0. 0. 0. 0. 0. 0.\n",
            " 0. 0. 0. 0. 0. 0. 0. 0. 0. 0. 0. 0. 0. 0. 0. 0. 0. 0. 0. 0. 0. 0. 0. 0.\n",
            " 0. 0. 0. 0. 0. 0. 0. 0. 0. 0. 0. 0. 0. 0. 0. 0. 0. 0. 0. 0. 0. 0. 0. 0.\n",
            " 0. 0. 0. 0.]\n",
            "[[0.70263576 0.38737802 0.88892653 0.7370839  0.18249215 0.31061123\n",
            "  0.16880229 0.72965209 0.7167579  0.13005106]\n",
            " [0.73968365 0.39529902 0.44273954 0.14320315 0.90096627 0.48119671\n",
            "  0.14972339 0.03627112 0.01736767 0.09366721]\n",
            " [0.1577566  0.11151023 0.60138258 0.64642941 0.77100399 0.13947263\n",
            "  0.81248422 0.90697773 0.32052905 0.08320337]\n",
            " [0.48438775 0.7233278  0.88967872 0.09224194 0.83900961 0.05049981\n",
            "  0.51137523 0.97804422 0.00858497 0.11161124]\n",
            " [0.2615046  0.51087404 0.54251946 0.50756924 0.51920718 0.70491243\n",
            "  0.26328426 0.73472676 0.28100616 0.92751304]\n",
            " [0.27636796 0.8616159  0.49720528 0.39517466 0.79709621 0.66224994\n",
            "  0.02757046 0.26461423 0.27432115 0.69139148]\n",
            " [0.09186711 0.88615594 0.86963096 0.24539297 0.97143321 0.73462719\n",
            "  0.30513387 0.52587071 0.16078216 0.52002732]\n",
            " [0.09163233 0.63289935 0.5818198  0.58301176 0.11683235 0.1235309\n",
            "  0.34472132 0.22419417 0.25363104 0.15306462]\n",
            " [0.78032845 0.86130932 0.69346788 0.51411266 0.17952854 0.70184944\n",
            "  0.16324124 0.89694115 0.64626461 0.23945004]\n",
            " [0.45964973 0.01233829 0.55877283 0.99351375 0.14548508 0.86778182\n",
            "  0.83684309 0.31785897 0.11849587 0.08301587]]\n"
          ]
        }
      ]
    },
    {
      "cell_type": "code",
      "source": [
        "h = np.eye(3, 3)\n",
        "print(h)\n",
        "\n",
        "i = np.diag([1, 2, 3, 4])\n",
        "print(i)"
      ],
      "metadata": {
        "colab": {
          "base_uri": "https://localhost:8080/"
        },
        "id": "9FbUFgpXQ2bl",
        "outputId": "015b4c92-a607-4a70-a051-6e6885720ce4"
      },
      "execution_count": 34,
      "outputs": [
        {
          "output_type": "stream",
          "name": "stdout",
          "text": [
            "[[1. 0. 0.]\n",
            " [0. 1. 0.]\n",
            " [0. 0. 1.]]\n",
            "[[1 0 0 0]\n",
            " [0 2 0 0]\n",
            " [0 0 3 0]\n",
            " [0 0 0 4]]\n"
          ]
        }
      ]
    },
    {
      "cell_type": "code",
      "source": [
        "j = np.random.rand(5, 5)\n",
        "print(j)\n",
        "j[0, 1]\n",
        "\n",
        "j[0][1] = 10\n",
        "print(j)"
      ],
      "metadata": {
        "colab": {
          "base_uri": "https://localhost:8080/"
        },
        "id": "2wuaRVSQf4er",
        "outputId": "55786e1e-3d45-419a-cc6a-7bcc811e7167"
      },
      "execution_count": 40,
      "outputs": [
        {
          "output_type": "stream",
          "name": "stdout",
          "text": [
            "[[0.26788465 0.3367821  0.89139407 0.06100212 0.34319114]\n",
            " [0.47948435 0.99352071 0.37070462 0.40169816 0.43611549]\n",
            " [0.34241727 0.05715597 0.15148954 0.24460197 0.40723473]\n",
            " [0.81846341 0.60930461 0.5692399  0.30399464 0.23728385]\n",
            " [0.87765024 0.56170803 0.57110196 0.54656618 0.1785059 ]]\n",
            "[[ 0.26788465 10.          0.89139407  0.06100212  0.34319114]\n",
            " [ 0.47948435  0.99352071  0.37070462  0.40169816  0.43611549]\n",
            " [ 0.34241727  0.05715597  0.15148954  0.24460197  0.40723473]\n",
            " [ 0.81846341  0.60930461  0.5692399   0.30399464  0.23728385]\n",
            " [ 0.87765024  0.56170803  0.57110196  0.54656618  0.1785059 ]]\n"
          ]
        }
      ]
    },
    {
      "cell_type": "code",
      "source": [
        "a = np.arange(0, 10)\n",
        "print(a)\n",
        "print(a[2:])"
      ],
      "metadata": {
        "colab": {
          "base_uri": "https://localhost:8080/"
        },
        "id": "Hkh3sbV_hP7p",
        "outputId": "d08ddf00-25f2-4da9-b827-7bdaaf668ae7"
      },
      "execution_count": 43,
      "outputs": [
        {
          "output_type": "stream",
          "name": "stdout",
          "text": [
            "[0 1 2 3 4 5 6 7 8 9]\n",
            "[2 3 4 5 6 7 8 9]\n"
          ]
        }
      ]
    },
    {
      "cell_type": "code",
      "source": [
        "b = np.random.rand(5, 5)\n",
        "print(b)\n",
        "print(b[0: , 1])"
      ],
      "metadata": {
        "colab": {
          "base_uri": "https://localhost:8080/"
        },
        "id": "6qn1JKUylBQ8",
        "outputId": "716fc623-e546-4f5d-9941-cebbea7f5d98"
      },
      "execution_count": 47,
      "outputs": [
        {
          "output_type": "stream",
          "name": "stdout",
          "text": [
            "[[7.98317188e-01 2.62681104e-01 1.52274890e-01 3.10717226e-02\n",
            "  6.76796478e-01]\n",
            " [1.20517133e-01 1.45657844e-02 1.29091926e-01 8.06311388e-01\n",
            "  5.35661604e-04]\n",
            " [8.63945883e-01 9.24704859e-01 2.26264777e-01 5.58960003e-01\n",
            "  8.34532566e-01]\n",
            " [7.88665435e-01 7.12300316e-01 3.73548392e-01 8.92468692e-02\n",
            "  9.78670454e-01]\n",
            " [2.87640116e-01 3.92101285e-01 9.73545327e-01 7.48767853e-01\n",
            "  6.29529459e-01]]\n",
            "[0.2626811  0.01456578 0.92470486 0.71230032 0.39210129]\n"
          ]
        }
      ]
    },
    {
      "cell_type": "code",
      "source": [
        "np.random.seed(1)\n",
        "a1 = np.random.randint(1, 10, 5)\n",
        "print(a1)\n"
      ],
      "metadata": {
        "colab": {
          "base_uri": "https://localhost:8080/"
        },
        "id": "2ZG98zInpria",
        "outputId": "33de696b-e024-4ac6-aa1f-999971f5a56b"
      },
      "execution_count": 67,
      "outputs": [
        {
          "output_type": "stream",
          "name": "stdout",
          "text": [
            "[6 9 6 1 1]\n"
          ]
        }
      ]
    },
    {
      "cell_type": "code",
      "source": [
        "a1 + 2"
      ],
      "metadata": {
        "colab": {
          "base_uri": "https://localhost:8080/"
        },
        "id": "2BtPqnXnxPHf",
        "outputId": "43c9b033-c6bd-4ec0-a3ae-78a614231420"
      },
      "execution_count": 69,
      "outputs": [
        {
          "output_type": "execute_result",
          "data": {
            "text/plain": [
              "array([ 8, 11,  8,  3,  3])"
            ]
          },
          "metadata": {},
          "execution_count": 69
        }
      ]
    },
    {
      "cell_type": "code",
      "source": [
        "a1**2"
      ],
      "metadata": {
        "colab": {
          "base_uri": "https://localhost:8080/"
        },
        "id": "RyqHYBQcx-Lh",
        "outputId": "28f4a24c-5434-448b-e0ba-4020679956b7"
      },
      "execution_count": 71,
      "outputs": [
        {
          "output_type": "execute_result",
          "data": {
            "text/plain": [
              "array([36, 81, 36,  1,  1])"
            ]
          },
          "metadata": {},
          "execution_count": 71
        }
      ]
    },
    {
      "cell_type": "code",
      "source": [
        "a2 = np.random.randint(1, 10, 5)\n",
        "print(a2)"
      ],
      "metadata": {
        "colab": {
          "base_uri": "https://localhost:8080/"
        },
        "id": "91DPbdCJyUVe",
        "outputId": "89b3a2ff-f9f6-4fcf-edd5-fdc92a9b2aa5"
      },
      "execution_count": 77,
      "outputs": [
        {
          "output_type": "stream",
          "name": "stdout",
          "text": [
            "[8 7 2 1 2]\n"
          ]
        }
      ]
    },
    {
      "cell_type": "code",
      "source": [
        "a1 + a2"
      ],
      "metadata": {
        "colab": {
          "base_uri": "https://localhost:8080/"
        },
        "id": "BDVAjq0zybid",
        "outputId": "8ec00c34-c8a2-450c-d4b7-1c186b5a7e2a"
      },
      "execution_count": 79,
      "outputs": [
        {
          "output_type": "execute_result",
          "data": {
            "text/plain": [
              "array([14, 16,  8,  2,  3])"
            ]
          },
          "metadata": {},
          "execution_count": 79
        }
      ]
    },
    {
      "cell_type": "code",
      "source": [
        "m1 = np.ones((3, 2))\n",
        "m2 = np.ones((2, 3))\n",
        "\n",
        "print(m1)\n",
        "print(\"\\n\")\n",
        "print(m2)\n",
        "print(\"\\n\")\n",
        "\n",
        "m1.dot(m2)"
      ],
      "metadata": {
        "colab": {
          "base_uri": "https://localhost:8080/"
        },
        "id": "dlfPKIz81xg0",
        "outputId": "1cfafe30-bb2f-4ef0-a7d7-43833ba6d407"
      },
      "execution_count": 83,
      "outputs": [
        {
          "output_type": "stream",
          "name": "stdout",
          "text": [
            "[[1. 1.]\n",
            " [1. 1.]\n",
            " [1. 1.]]\n",
            "\n",
            "\n",
            "[[1. 1. 1.]\n",
            " [1. 1. 1.]]\n",
            "\n",
            "\n"
          ]
        },
        {
          "output_type": "execute_result",
          "data": {
            "text/plain": [
              "array([[2., 2., 2.],\n",
              "       [2., 2., 2.],\n",
              "       [2., 2., 2.]])"
            ]
          },
          "metadata": {},
          "execution_count": 83
        }
      ]
    },
    {
      "cell_type": "code",
      "source": [
        "a1 = np.array([1, 2, 3])\n",
        "a2 = np.array([1, 3, 5])\n",
        "\n",
        "print(a1 == a2)\n",
        "print('\\n')\n",
        "np.array_equal(a1, a2)"
      ],
      "metadata": {
        "colab": {
          "base_uri": "https://localhost:8080/"
        },
        "id": "TVmza0eLJjnz",
        "outputId": "4254f510-c3b2-4687-8771-fcee33562b74"
      },
      "execution_count": 88,
      "outputs": [
        {
          "output_type": "stream",
          "name": "stdout",
          "text": [
            "[ True False False]\n",
            "\n",
            "\n"
          ]
        },
        {
          "output_type": "execute_result",
          "data": {
            "text/plain": [
              "False"
            ]
          },
          "metadata": {},
          "execution_count": 88
        }
      ]
    }
  ]
}